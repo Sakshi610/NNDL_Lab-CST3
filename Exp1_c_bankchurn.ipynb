{
  "nbformat": 4,
  "nbformat_minor": 0,
  "metadata": {
    "colab": {
      "name": "Exp1_c_bankchurn.ipynb",
      "provenance": [],
      "collapsed_sections": [],
      "authorship_tag": "ABX9TyN39ZwjiQlOxXVJNpO0TOGt",
      "include_colab_link": true
    },
    "kernelspec": {
      "name": "python3",
      "display_name": "Python 3"
    },
    "language_info": {
      "name": "python"
    }
  },
  "cells": [
    {
      "cell_type": "markdown",
      "metadata": {
        "id": "view-in-github",
        "colab_type": "text"
      },
      "source": [
        "<a href=\"https://colab.research.google.com/github/Sakshi610/NNDL_Lab-CST3/blob/main/Exp1_c_bankchurn.ipynb\" target=\"_parent\"><img src=\"https://colab.research.google.com/assets/colab-badge.svg\" alt=\"Open In Colab\"/></a>"
      ]
    },
    {
      "cell_type": "markdown",
      "source": [
        "**EXPERIMENT 1(c)**\n",
        "\n",
        "**AIM** : Implementation of ANN - Customer churn prediction using dataset for Bank.\n",
        "\n",
        "Take this dataset for bank customer churn prediction : https://www.kaggle.com/barelydedicated/bank-customer-churn-modeling\n",
        "\n",
        "1) Build a deep learning model to predict churn rate at bank.\n",
        "\n",
        "2) Once model is built, print classification report and analyze precision, recall and f1-score"
      ],
      "metadata": {
        "id": "ehUfdicpE1ZJ"
      }
    },
    {
      "cell_type": "code",
      "execution_count": null,
      "metadata": {
        "id": "xErb8dbLLXqH"
      },
      "outputs": [],
      "source": [
        "import pandas as pd\n",
        "from matplotlib import pyplot as plt\n",
        "import numpy as np\n",
        "%matplotlib inline\n",
        "import tensorflow as tf\n",
        "import seaborn as sn\n",
        "import matplotlib.pyplot as plt\n",
        "from tensorflow import keras\n",
        "from sklearn.preprocessing import LabelEncoder, OneHotEncoder\n",
        "from sklearn.model_selection import train_test_split\n",
        "from keras.models import Sequential\n",
        "from keras.layers import Dense\n",
        "from sklearn.compose import ColumnTransformer"
      ]
    },
    {
      "cell_type": "code",
      "source": [
        "df=pd.read_csv('/content/Churn_Modelling.csv')"
      ],
      "metadata": {
        "id": "wVK2koBtLrfc"
      },
      "execution_count": null,
      "outputs": []
    },
    {
      "cell_type": "code",
      "source": [
        "df.head()"
      ],
      "metadata": {
        "id": "Ui_wLmskMH6a",
        "outputId": "7e1aa4fe-794a-4a8a-eead-e5c9bf6e653d",
        "colab": {
          "base_uri": "https://localhost:8080/",
          "height": 206
        }
      },
      "execution_count": null,
      "outputs": [
        {
          "output_type": "execute_result",
          "data": {
            "text/plain": [
              "   RowNumber  CustomerId   Surname  CreditScore Geography  Gender  Age  \\\n",
              "0          1    15634602  Hargrave          619    France  Female   42   \n",
              "1          2    15647311      Hill          608     Spain  Female   41   \n",
              "2          3    15619304      Onio          502    France  Female   42   \n",
              "3          4    15701354      Boni          699    France  Female   39   \n",
              "4          5    15737888  Mitchell          850     Spain  Female   43   \n",
              "\n",
              "   Tenure    Balance  NumOfProducts  HasCrCard  IsActiveMember  \\\n",
              "0       2       0.00              1          1               1   \n",
              "1       1   83807.86              1          0               1   \n",
              "2       8  159660.80              3          1               0   \n",
              "3       1       0.00              2          0               0   \n",
              "4       2  125510.82              1          1               1   \n",
              "\n",
              "   EstimatedSalary  Exited  \n",
              "0        101348.88       1  \n",
              "1        112542.58       0  \n",
              "2        113931.57       1  \n",
              "3         93826.63       0  \n",
              "4         79084.10       0  "
            ],
            "text/html": [
              "\n",
              "  <div id=\"df-368e31d6-f679-4018-9fea-49a4b1ca2aaa\">\n",
              "    <div class=\"colab-df-container\">\n",
              "      <div>\n",
              "<style scoped>\n",
              "    .dataframe tbody tr th:only-of-type {\n",
              "        vertical-align: middle;\n",
              "    }\n",
              "\n",
              "    .dataframe tbody tr th {\n",
              "        vertical-align: top;\n",
              "    }\n",
              "\n",
              "    .dataframe thead th {\n",
              "        text-align: right;\n",
              "    }\n",
              "</style>\n",
              "<table border=\"1\" class=\"dataframe\">\n",
              "  <thead>\n",
              "    <tr style=\"text-align: right;\">\n",
              "      <th></th>\n",
              "      <th>RowNumber</th>\n",
              "      <th>CustomerId</th>\n",
              "      <th>Surname</th>\n",
              "      <th>CreditScore</th>\n",
              "      <th>Geography</th>\n",
              "      <th>Gender</th>\n",
              "      <th>Age</th>\n",
              "      <th>Tenure</th>\n",
              "      <th>Balance</th>\n",
              "      <th>NumOfProducts</th>\n",
              "      <th>HasCrCard</th>\n",
              "      <th>IsActiveMember</th>\n",
              "      <th>EstimatedSalary</th>\n",
              "      <th>Exited</th>\n",
              "    </tr>\n",
              "  </thead>\n",
              "  <tbody>\n",
              "    <tr>\n",
              "      <th>0</th>\n",
              "      <td>1</td>\n",
              "      <td>15634602</td>\n",
              "      <td>Hargrave</td>\n",
              "      <td>619</td>\n",
              "      <td>France</td>\n",
              "      <td>Female</td>\n",
              "      <td>42</td>\n",
              "      <td>2</td>\n",
              "      <td>0.00</td>\n",
              "      <td>1</td>\n",
              "      <td>1</td>\n",
              "      <td>1</td>\n",
              "      <td>101348.88</td>\n",
              "      <td>1</td>\n",
              "    </tr>\n",
              "    <tr>\n",
              "      <th>1</th>\n",
              "      <td>2</td>\n",
              "      <td>15647311</td>\n",
              "      <td>Hill</td>\n",
              "      <td>608</td>\n",
              "      <td>Spain</td>\n",
              "      <td>Female</td>\n",
              "      <td>41</td>\n",
              "      <td>1</td>\n",
              "      <td>83807.86</td>\n",
              "      <td>1</td>\n",
              "      <td>0</td>\n",
              "      <td>1</td>\n",
              "      <td>112542.58</td>\n",
              "      <td>0</td>\n",
              "    </tr>\n",
              "    <tr>\n",
              "      <th>2</th>\n",
              "      <td>3</td>\n",
              "      <td>15619304</td>\n",
              "      <td>Onio</td>\n",
              "      <td>502</td>\n",
              "      <td>France</td>\n",
              "      <td>Female</td>\n",
              "      <td>42</td>\n",
              "      <td>8</td>\n",
              "      <td>159660.80</td>\n",
              "      <td>3</td>\n",
              "      <td>1</td>\n",
              "      <td>0</td>\n",
              "      <td>113931.57</td>\n",
              "      <td>1</td>\n",
              "    </tr>\n",
              "    <tr>\n",
              "      <th>3</th>\n",
              "      <td>4</td>\n",
              "      <td>15701354</td>\n",
              "      <td>Boni</td>\n",
              "      <td>699</td>\n",
              "      <td>France</td>\n",
              "      <td>Female</td>\n",
              "      <td>39</td>\n",
              "      <td>1</td>\n",
              "      <td>0.00</td>\n",
              "      <td>2</td>\n",
              "      <td>0</td>\n",
              "      <td>0</td>\n",
              "      <td>93826.63</td>\n",
              "      <td>0</td>\n",
              "    </tr>\n",
              "    <tr>\n",
              "      <th>4</th>\n",
              "      <td>5</td>\n",
              "      <td>15737888</td>\n",
              "      <td>Mitchell</td>\n",
              "      <td>850</td>\n",
              "      <td>Spain</td>\n",
              "      <td>Female</td>\n",
              "      <td>43</td>\n",
              "      <td>2</td>\n",
              "      <td>125510.82</td>\n",
              "      <td>1</td>\n",
              "      <td>1</td>\n",
              "      <td>1</td>\n",
              "      <td>79084.10</td>\n",
              "      <td>0</td>\n",
              "    </tr>\n",
              "  </tbody>\n",
              "</table>\n",
              "</div>\n",
              "      <button class=\"colab-df-convert\" onclick=\"convertToInteractive('df-368e31d6-f679-4018-9fea-49a4b1ca2aaa')\"\n",
              "              title=\"Convert this dataframe to an interactive table.\"\n",
              "              style=\"display:none;\">\n",
              "        \n",
              "  <svg xmlns=\"http://www.w3.org/2000/svg\" height=\"24px\"viewBox=\"0 0 24 24\"\n",
              "       width=\"24px\">\n",
              "    <path d=\"M0 0h24v24H0V0z\" fill=\"none\"/>\n",
              "    <path d=\"M18.56 5.44l.94 2.06.94-2.06 2.06-.94-2.06-.94-.94-2.06-.94 2.06-2.06.94zm-11 1L8.5 8.5l.94-2.06 2.06-.94-2.06-.94L8.5 2.5l-.94 2.06-2.06.94zm10 10l.94 2.06.94-2.06 2.06-.94-2.06-.94-.94-2.06-.94 2.06-2.06.94z\"/><path d=\"M17.41 7.96l-1.37-1.37c-.4-.4-.92-.59-1.43-.59-.52 0-1.04.2-1.43.59L10.3 9.45l-7.72 7.72c-.78.78-.78 2.05 0 2.83L4 21.41c.39.39.9.59 1.41.59.51 0 1.02-.2 1.41-.59l7.78-7.78 2.81-2.81c.8-.78.8-2.07 0-2.86zM5.41 20L4 18.59l7.72-7.72 1.47 1.35L5.41 20z\"/>\n",
              "  </svg>\n",
              "      </button>\n",
              "      \n",
              "  <style>\n",
              "    .colab-df-container {\n",
              "      display:flex;\n",
              "      flex-wrap:wrap;\n",
              "      gap: 12px;\n",
              "    }\n",
              "\n",
              "    .colab-df-convert {\n",
              "      background-color: #E8F0FE;\n",
              "      border: none;\n",
              "      border-radius: 50%;\n",
              "      cursor: pointer;\n",
              "      display: none;\n",
              "      fill: #1967D2;\n",
              "      height: 32px;\n",
              "      padding: 0 0 0 0;\n",
              "      width: 32px;\n",
              "    }\n",
              "\n",
              "    .colab-df-convert:hover {\n",
              "      background-color: #E2EBFA;\n",
              "      box-shadow: 0px 1px 2px rgba(60, 64, 67, 0.3), 0px 1px 3px 1px rgba(60, 64, 67, 0.15);\n",
              "      fill: #174EA6;\n",
              "    }\n",
              "\n",
              "    [theme=dark] .colab-df-convert {\n",
              "      background-color: #3B4455;\n",
              "      fill: #D2E3FC;\n",
              "    }\n",
              "\n",
              "    [theme=dark] .colab-df-convert:hover {\n",
              "      background-color: #434B5C;\n",
              "      box-shadow: 0px 1px 3px 1px rgba(0, 0, 0, 0.15);\n",
              "      filter: drop-shadow(0px 1px 2px rgba(0, 0, 0, 0.3));\n",
              "      fill: #FFFFFF;\n",
              "    }\n",
              "  </style>\n",
              "\n",
              "      <script>\n",
              "        const buttonEl =\n",
              "          document.querySelector('#df-368e31d6-f679-4018-9fea-49a4b1ca2aaa button.colab-df-convert');\n",
              "        buttonEl.style.display =\n",
              "          google.colab.kernel.accessAllowed ? 'block' : 'none';\n",
              "\n",
              "        async function convertToInteractive(key) {\n",
              "          const element = document.querySelector('#df-368e31d6-f679-4018-9fea-49a4b1ca2aaa');\n",
              "          const dataTable =\n",
              "            await google.colab.kernel.invokeFunction('convertToInteractive',\n",
              "                                                     [key], {});\n",
              "          if (!dataTable) return;\n",
              "\n",
              "          const docLinkHtml = 'Like what you see? Visit the ' +\n",
              "            '<a target=\"_blank\" href=https://colab.research.google.com/notebooks/data_table.ipynb>data table notebook</a>'\n",
              "            + ' to learn more about interactive tables.';\n",
              "          element.innerHTML = '';\n",
              "          dataTable['output_type'] = 'display_data';\n",
              "          await google.colab.output.renderOutput(dataTable, element);\n",
              "          const docLink = document.createElement('div');\n",
              "          docLink.innerHTML = docLinkHtml;\n",
              "          element.appendChild(docLink);\n",
              "        }\n",
              "      </script>\n",
              "    </div>\n",
              "  </div>\n",
              "  "
            ]
          },
          "metadata": {},
          "execution_count": 28
        }
      ]
    },
    {
      "cell_type": "code",
      "source": [
        "features = df.drop(labels=['CustomerId', 'Surname', 'RowNumber', 'Exited'], axis = 1)\n",
        "target  = df        ['Exited']"
      ],
      "metadata": {
        "id": "jNpu4hPpd479"
      },
      "execution_count": null,
      "outputs": []
    },
    {
      "cell_type": "code",
      "source": [
        "features.head()"
      ],
      "metadata": {
        "id": "fLaAdZNGMKrs",
        "colab": {
          "base_uri": "https://localhost:8080/",
          "height": 206
        },
        "outputId": "fd419839-6686-4dac-e2f4-0e53e85345c1"
      },
      "execution_count": null,
      "outputs": [
        {
          "output_type": "execute_result",
          "data": {
            "text/plain": [
              "   CreditScore Geography  Gender  Age  Tenure    Balance  NumOfProducts  \\\n",
              "0          619    France  Female   42       2       0.00              1   \n",
              "1          608     Spain  Female   41       1   83807.86              1   \n",
              "2          502    France  Female   42       8  159660.80              3   \n",
              "3          699    France  Female   39       1       0.00              2   \n",
              "4          850     Spain  Female   43       2  125510.82              1   \n",
              "\n",
              "   HasCrCard  IsActiveMember  EstimatedSalary  \n",
              "0          1               1        101348.88  \n",
              "1          0               1        112542.58  \n",
              "2          1               0        113931.57  \n",
              "3          0               0         93826.63  \n",
              "4          1               1         79084.10  "
            ],
            "text/html": [
              "\n",
              "  <div id=\"df-24c1d005-785b-4c5d-b2fa-2032dbedaefd\">\n",
              "    <div class=\"colab-df-container\">\n",
              "      <div>\n",
              "<style scoped>\n",
              "    .dataframe tbody tr th:only-of-type {\n",
              "        vertical-align: middle;\n",
              "    }\n",
              "\n",
              "    .dataframe tbody tr th {\n",
              "        vertical-align: top;\n",
              "    }\n",
              "\n",
              "    .dataframe thead th {\n",
              "        text-align: right;\n",
              "    }\n",
              "</style>\n",
              "<table border=\"1\" class=\"dataframe\">\n",
              "  <thead>\n",
              "    <tr style=\"text-align: right;\">\n",
              "      <th></th>\n",
              "      <th>CreditScore</th>\n",
              "      <th>Geography</th>\n",
              "      <th>Gender</th>\n",
              "      <th>Age</th>\n",
              "      <th>Tenure</th>\n",
              "      <th>Balance</th>\n",
              "      <th>NumOfProducts</th>\n",
              "      <th>HasCrCard</th>\n",
              "      <th>IsActiveMember</th>\n",
              "      <th>EstimatedSalary</th>\n",
              "    </tr>\n",
              "  </thead>\n",
              "  <tbody>\n",
              "    <tr>\n",
              "      <th>0</th>\n",
              "      <td>619</td>\n",
              "      <td>France</td>\n",
              "      <td>Female</td>\n",
              "      <td>42</td>\n",
              "      <td>2</td>\n",
              "      <td>0.00</td>\n",
              "      <td>1</td>\n",
              "      <td>1</td>\n",
              "      <td>1</td>\n",
              "      <td>101348.88</td>\n",
              "    </tr>\n",
              "    <tr>\n",
              "      <th>1</th>\n",
              "      <td>608</td>\n",
              "      <td>Spain</td>\n",
              "      <td>Female</td>\n",
              "      <td>41</td>\n",
              "      <td>1</td>\n",
              "      <td>83807.86</td>\n",
              "      <td>1</td>\n",
              "      <td>0</td>\n",
              "      <td>1</td>\n",
              "      <td>112542.58</td>\n",
              "    </tr>\n",
              "    <tr>\n",
              "      <th>2</th>\n",
              "      <td>502</td>\n",
              "      <td>France</td>\n",
              "      <td>Female</td>\n",
              "      <td>42</td>\n",
              "      <td>8</td>\n",
              "      <td>159660.80</td>\n",
              "      <td>3</td>\n",
              "      <td>1</td>\n",
              "      <td>0</td>\n",
              "      <td>113931.57</td>\n",
              "    </tr>\n",
              "    <tr>\n",
              "      <th>3</th>\n",
              "      <td>699</td>\n",
              "      <td>France</td>\n",
              "      <td>Female</td>\n",
              "      <td>39</td>\n",
              "      <td>1</td>\n",
              "      <td>0.00</td>\n",
              "      <td>2</td>\n",
              "      <td>0</td>\n",
              "      <td>0</td>\n",
              "      <td>93826.63</td>\n",
              "    </tr>\n",
              "    <tr>\n",
              "      <th>4</th>\n",
              "      <td>850</td>\n",
              "      <td>Spain</td>\n",
              "      <td>Female</td>\n",
              "      <td>43</td>\n",
              "      <td>2</td>\n",
              "      <td>125510.82</td>\n",
              "      <td>1</td>\n",
              "      <td>1</td>\n",
              "      <td>1</td>\n",
              "      <td>79084.10</td>\n",
              "    </tr>\n",
              "  </tbody>\n",
              "</table>\n",
              "</div>\n",
              "      <button class=\"colab-df-convert\" onclick=\"convertToInteractive('df-24c1d005-785b-4c5d-b2fa-2032dbedaefd')\"\n",
              "              title=\"Convert this dataframe to an interactive table.\"\n",
              "              style=\"display:none;\">\n",
              "        \n",
              "  <svg xmlns=\"http://www.w3.org/2000/svg\" height=\"24px\"viewBox=\"0 0 24 24\"\n",
              "       width=\"24px\">\n",
              "    <path d=\"M0 0h24v24H0V0z\" fill=\"none\"/>\n",
              "    <path d=\"M18.56 5.44l.94 2.06.94-2.06 2.06-.94-2.06-.94-.94-2.06-.94 2.06-2.06.94zm-11 1L8.5 8.5l.94-2.06 2.06-.94-2.06-.94L8.5 2.5l-.94 2.06-2.06.94zm10 10l.94 2.06.94-2.06 2.06-.94-2.06-.94-.94-2.06-.94 2.06-2.06.94z\"/><path d=\"M17.41 7.96l-1.37-1.37c-.4-.4-.92-.59-1.43-.59-.52 0-1.04.2-1.43.59L10.3 9.45l-7.72 7.72c-.78.78-.78 2.05 0 2.83L4 21.41c.39.39.9.59 1.41.59.51 0 1.02-.2 1.41-.59l7.78-7.78 2.81-2.81c.8-.78.8-2.07 0-2.86zM5.41 20L4 18.59l7.72-7.72 1.47 1.35L5.41 20z\"/>\n",
              "  </svg>\n",
              "      </button>\n",
              "      \n",
              "  <style>\n",
              "    .colab-df-container {\n",
              "      display:flex;\n",
              "      flex-wrap:wrap;\n",
              "      gap: 12px;\n",
              "    }\n",
              "\n",
              "    .colab-df-convert {\n",
              "      background-color: #E8F0FE;\n",
              "      border: none;\n",
              "      border-radius: 50%;\n",
              "      cursor: pointer;\n",
              "      display: none;\n",
              "      fill: #1967D2;\n",
              "      height: 32px;\n",
              "      padding: 0 0 0 0;\n",
              "      width: 32px;\n",
              "    }\n",
              "\n",
              "    .colab-df-convert:hover {\n",
              "      background-color: #E2EBFA;\n",
              "      box-shadow: 0px 1px 2px rgba(60, 64, 67, 0.3), 0px 1px 3px 1px rgba(60, 64, 67, 0.15);\n",
              "      fill: #174EA6;\n",
              "    }\n",
              "\n",
              "    [theme=dark] .colab-df-convert {\n",
              "      background-color: #3B4455;\n",
              "      fill: #D2E3FC;\n",
              "    }\n",
              "\n",
              "    [theme=dark] .colab-df-convert:hover {\n",
              "      background-color: #434B5C;\n",
              "      box-shadow: 0px 1px 3px 1px rgba(0, 0, 0, 0.15);\n",
              "      filter: drop-shadow(0px 1px 2px rgba(0, 0, 0, 0.3));\n",
              "      fill: #FFFFFF;\n",
              "    }\n",
              "  </style>\n",
              "\n",
              "      <script>\n",
              "        const buttonEl =\n",
              "          document.querySelector('#df-24c1d005-785b-4c5d-b2fa-2032dbedaefd button.colab-df-convert');\n",
              "        buttonEl.style.display =\n",
              "          google.colab.kernel.accessAllowed ? 'block' : 'none';\n",
              "\n",
              "        async function convertToInteractive(key) {\n",
              "          const element = document.querySelector('#df-24c1d005-785b-4c5d-b2fa-2032dbedaefd');\n",
              "          const dataTable =\n",
              "            await google.colab.kernel.invokeFunction('convertToInteractive',\n",
              "                                                     [key], {});\n",
              "          if (!dataTable) return;\n",
              "\n",
              "          const docLinkHtml = 'Like what you see? Visit the ' +\n",
              "            '<a target=\"_blank\" href=https://colab.research.google.com/notebooks/data_table.ipynb>data table notebook</a>'\n",
              "            + ' to learn more about interactive tables.';\n",
              "          element.innerHTML = '';\n",
              "          dataTable['output_type'] = 'display_data';\n",
              "          await google.colab.output.renderOutput(dataTable, element);\n",
              "          const docLink = document.createElement('div');\n",
              "          docLink.innerHTML = docLinkHtml;\n",
              "          element.appendChild(docLink);\n",
              "        }\n",
              "      </script>\n",
              "    </div>\n",
              "  </div>\n",
              "  "
            ]
          },
          "metadata": {},
          "execution_count": 31
        }
      ]
    },
    {
      "cell_type": "code",
      "source": [
        "features.head()"
      ],
      "metadata": {
        "id": "Lvn2diAUdU91",
        "colab": {
          "base_uri": "https://localhost:8080/",
          "height": 206
        },
        "outputId": "29175566-0c30-4655-ec2b-486fd6ad33fe"
      },
      "execution_count": null,
      "outputs": [
        {
          "output_type": "execute_result",
          "data": {
            "text/plain": [
              "   CreditScore Geography  Gender  Age  Tenure    Balance  NumOfProducts  \\\n",
              "0          619    France  Female   42       2       0.00              1   \n",
              "1          608     Spain  Female   41       1   83807.86              1   \n",
              "2          502    France  Female   42       8  159660.80              3   \n",
              "3          699    France  Female   39       1       0.00              2   \n",
              "4          850     Spain  Female   43       2  125510.82              1   \n",
              "\n",
              "   HasCrCard  IsActiveMember  EstimatedSalary  \n",
              "0          1               1        101348.88  \n",
              "1          0               1        112542.58  \n",
              "2          1               0        113931.57  \n",
              "3          0               0         93826.63  \n",
              "4          1               1         79084.10  "
            ],
            "text/html": [
              "\n",
              "  <div id=\"df-7f05a034-9764-4400-b122-66ef6974302e\">\n",
              "    <div class=\"colab-df-container\">\n",
              "      <div>\n",
              "<style scoped>\n",
              "    .dataframe tbody tr th:only-of-type {\n",
              "        vertical-align: middle;\n",
              "    }\n",
              "\n",
              "    .dataframe tbody tr th {\n",
              "        vertical-align: top;\n",
              "    }\n",
              "\n",
              "    .dataframe thead th {\n",
              "        text-align: right;\n",
              "    }\n",
              "</style>\n",
              "<table border=\"1\" class=\"dataframe\">\n",
              "  <thead>\n",
              "    <tr style=\"text-align: right;\">\n",
              "      <th></th>\n",
              "      <th>CreditScore</th>\n",
              "      <th>Geography</th>\n",
              "      <th>Gender</th>\n",
              "      <th>Age</th>\n",
              "      <th>Tenure</th>\n",
              "      <th>Balance</th>\n",
              "      <th>NumOfProducts</th>\n",
              "      <th>HasCrCard</th>\n",
              "      <th>IsActiveMember</th>\n",
              "      <th>EstimatedSalary</th>\n",
              "    </tr>\n",
              "  </thead>\n",
              "  <tbody>\n",
              "    <tr>\n",
              "      <th>0</th>\n",
              "      <td>619</td>\n",
              "      <td>France</td>\n",
              "      <td>Female</td>\n",
              "      <td>42</td>\n",
              "      <td>2</td>\n",
              "      <td>0.00</td>\n",
              "      <td>1</td>\n",
              "      <td>1</td>\n",
              "      <td>1</td>\n",
              "      <td>101348.88</td>\n",
              "    </tr>\n",
              "    <tr>\n",
              "      <th>1</th>\n",
              "      <td>608</td>\n",
              "      <td>Spain</td>\n",
              "      <td>Female</td>\n",
              "      <td>41</td>\n",
              "      <td>1</td>\n",
              "      <td>83807.86</td>\n",
              "      <td>1</td>\n",
              "      <td>0</td>\n",
              "      <td>1</td>\n",
              "      <td>112542.58</td>\n",
              "    </tr>\n",
              "    <tr>\n",
              "      <th>2</th>\n",
              "      <td>502</td>\n",
              "      <td>France</td>\n",
              "      <td>Female</td>\n",
              "      <td>42</td>\n",
              "      <td>8</td>\n",
              "      <td>159660.80</td>\n",
              "      <td>3</td>\n",
              "      <td>1</td>\n",
              "      <td>0</td>\n",
              "      <td>113931.57</td>\n",
              "    </tr>\n",
              "    <tr>\n",
              "      <th>3</th>\n",
              "      <td>699</td>\n",
              "      <td>France</td>\n",
              "      <td>Female</td>\n",
              "      <td>39</td>\n",
              "      <td>1</td>\n",
              "      <td>0.00</td>\n",
              "      <td>2</td>\n",
              "      <td>0</td>\n",
              "      <td>0</td>\n",
              "      <td>93826.63</td>\n",
              "    </tr>\n",
              "    <tr>\n",
              "      <th>4</th>\n",
              "      <td>850</td>\n",
              "      <td>Spain</td>\n",
              "      <td>Female</td>\n",
              "      <td>43</td>\n",
              "      <td>2</td>\n",
              "      <td>125510.82</td>\n",
              "      <td>1</td>\n",
              "      <td>1</td>\n",
              "      <td>1</td>\n",
              "      <td>79084.10</td>\n",
              "    </tr>\n",
              "  </tbody>\n",
              "</table>\n",
              "</div>\n",
              "      <button class=\"colab-df-convert\" onclick=\"convertToInteractive('df-7f05a034-9764-4400-b122-66ef6974302e')\"\n",
              "              title=\"Convert this dataframe to an interactive table.\"\n",
              "              style=\"display:none;\">\n",
              "        \n",
              "  <svg xmlns=\"http://www.w3.org/2000/svg\" height=\"24px\"viewBox=\"0 0 24 24\"\n",
              "       width=\"24px\">\n",
              "    <path d=\"M0 0h24v24H0V0z\" fill=\"none\"/>\n",
              "    <path d=\"M18.56 5.44l.94 2.06.94-2.06 2.06-.94-2.06-.94-.94-2.06-.94 2.06-2.06.94zm-11 1L8.5 8.5l.94-2.06 2.06-.94-2.06-.94L8.5 2.5l-.94 2.06-2.06.94zm10 10l.94 2.06.94-2.06 2.06-.94-2.06-.94-.94-2.06-.94 2.06-2.06.94z\"/><path d=\"M17.41 7.96l-1.37-1.37c-.4-.4-.92-.59-1.43-.59-.52 0-1.04.2-1.43.59L10.3 9.45l-7.72 7.72c-.78.78-.78 2.05 0 2.83L4 21.41c.39.39.9.59 1.41.59.51 0 1.02-.2 1.41-.59l7.78-7.78 2.81-2.81c.8-.78.8-2.07 0-2.86zM5.41 20L4 18.59l7.72-7.72 1.47 1.35L5.41 20z\"/>\n",
              "  </svg>\n",
              "      </button>\n",
              "      \n",
              "  <style>\n",
              "    .colab-df-container {\n",
              "      display:flex;\n",
              "      flex-wrap:wrap;\n",
              "      gap: 12px;\n",
              "    }\n",
              "\n",
              "    .colab-df-convert {\n",
              "      background-color: #E8F0FE;\n",
              "      border: none;\n",
              "      border-radius: 50%;\n",
              "      cursor: pointer;\n",
              "      display: none;\n",
              "      fill: #1967D2;\n",
              "      height: 32px;\n",
              "      padding: 0 0 0 0;\n",
              "      width: 32px;\n",
              "    }\n",
              "\n",
              "    .colab-df-convert:hover {\n",
              "      background-color: #E2EBFA;\n",
              "      box-shadow: 0px 1px 2px rgba(60, 64, 67, 0.3), 0px 1px 3px 1px rgba(60, 64, 67, 0.15);\n",
              "      fill: #174EA6;\n",
              "    }\n",
              "\n",
              "    [theme=dark] .colab-df-convert {\n",
              "      background-color: #3B4455;\n",
              "      fill: #D2E3FC;\n",
              "    }\n",
              "\n",
              "    [theme=dark] .colab-df-convert:hover {\n",
              "      background-color: #434B5C;\n",
              "      box-shadow: 0px 1px 3px 1px rgba(0, 0, 0, 0.15);\n",
              "      filter: drop-shadow(0px 1px 2px rgba(0, 0, 0, 0.3));\n",
              "      fill: #FFFFFF;\n",
              "    }\n",
              "  </style>\n",
              "\n",
              "      <script>\n",
              "        const buttonEl =\n",
              "          document.querySelector('#df-7f05a034-9764-4400-b122-66ef6974302e button.colab-df-convert');\n",
              "        buttonEl.style.display =\n",
              "          google.colab.kernel.accessAllowed ? 'block' : 'none';\n",
              "\n",
              "        async function convertToInteractive(key) {\n",
              "          const element = document.querySelector('#df-7f05a034-9764-4400-b122-66ef6974302e');\n",
              "          const dataTable =\n",
              "            await google.colab.kernel.invokeFunction('convertToInteractive',\n",
              "                                                     [key], {});\n",
              "          if (!dataTable) return;\n",
              "\n",
              "          const docLinkHtml = 'Like what you see? Visit the ' +\n",
              "            '<a target=\"_blank\" href=https://colab.research.google.com/notebooks/data_table.ipynb>data table notebook</a>'\n",
              "            + ' to learn more about interactive tables.';\n",
              "          element.innerHTML = '';\n",
              "          dataTable['output_type'] = 'display_data';\n",
              "          await google.colab.output.renderOutput(dataTable, element);\n",
              "          const docLink = document.createElement('div');\n",
              "          docLink.innerHTML = docLinkHtml;\n",
              "          element.appendChild(docLink);\n",
              "        }\n",
              "      </script>\n",
              "    </div>\n",
              "  </div>\n",
              "  "
            ]
          },
          "metadata": {},
          "execution_count": 32
        }
      ]
    },
    {
      "cell_type": "code",
      "source": [
        "features = pd.get_dummies(features, prefix=['geo'],columns=['Geography'])\n",
        "features.head()"
      ],
      "metadata": {
        "id": "ByGXChb2drgU",
        "colab": {
          "base_uri": "https://localhost:8080/",
          "height": 206
        },
        "outputId": "bb433cb2-080e-48bf-e225-ec00e6713ac9"
      },
      "execution_count": null,
      "outputs": [
        {
          "output_type": "execute_result",
          "data": {
            "text/plain": [
              "   CreditScore  Gender  Age  Tenure    Balance  NumOfProducts  HasCrCard  \\\n",
              "0          619  Female   42       2       0.00              1          1   \n",
              "1          608  Female   41       1   83807.86              1          0   \n",
              "2          502  Female   42       8  159660.80              3          1   \n",
              "3          699  Female   39       1       0.00              2          0   \n",
              "4          850  Female   43       2  125510.82              1          1   \n",
              "\n",
              "   IsActiveMember  EstimatedSalary  geo_France  geo_Germany  geo_Spain  \n",
              "0               1        101348.88           1            0          0  \n",
              "1               1        112542.58           0            0          1  \n",
              "2               0        113931.57           1            0          0  \n",
              "3               0         93826.63           1            0          0  \n",
              "4               1         79084.10           0            0          1  "
            ],
            "text/html": [
              "\n",
              "  <div id=\"df-ac7e6897-7a28-4658-8a27-7aa2dfbe85e8\">\n",
              "    <div class=\"colab-df-container\">\n",
              "      <div>\n",
              "<style scoped>\n",
              "    .dataframe tbody tr th:only-of-type {\n",
              "        vertical-align: middle;\n",
              "    }\n",
              "\n",
              "    .dataframe tbody tr th {\n",
              "        vertical-align: top;\n",
              "    }\n",
              "\n",
              "    .dataframe thead th {\n",
              "        text-align: right;\n",
              "    }\n",
              "</style>\n",
              "<table border=\"1\" class=\"dataframe\">\n",
              "  <thead>\n",
              "    <tr style=\"text-align: right;\">\n",
              "      <th></th>\n",
              "      <th>CreditScore</th>\n",
              "      <th>Gender</th>\n",
              "      <th>Age</th>\n",
              "      <th>Tenure</th>\n",
              "      <th>Balance</th>\n",
              "      <th>NumOfProducts</th>\n",
              "      <th>HasCrCard</th>\n",
              "      <th>IsActiveMember</th>\n",
              "      <th>EstimatedSalary</th>\n",
              "      <th>geo_France</th>\n",
              "      <th>geo_Germany</th>\n",
              "      <th>geo_Spain</th>\n",
              "    </tr>\n",
              "  </thead>\n",
              "  <tbody>\n",
              "    <tr>\n",
              "      <th>0</th>\n",
              "      <td>619</td>\n",
              "      <td>Female</td>\n",
              "      <td>42</td>\n",
              "      <td>2</td>\n",
              "      <td>0.00</td>\n",
              "      <td>1</td>\n",
              "      <td>1</td>\n",
              "      <td>1</td>\n",
              "      <td>101348.88</td>\n",
              "      <td>1</td>\n",
              "      <td>0</td>\n",
              "      <td>0</td>\n",
              "    </tr>\n",
              "    <tr>\n",
              "      <th>1</th>\n",
              "      <td>608</td>\n",
              "      <td>Female</td>\n",
              "      <td>41</td>\n",
              "      <td>1</td>\n",
              "      <td>83807.86</td>\n",
              "      <td>1</td>\n",
              "      <td>0</td>\n",
              "      <td>1</td>\n",
              "      <td>112542.58</td>\n",
              "      <td>0</td>\n",
              "      <td>0</td>\n",
              "      <td>1</td>\n",
              "    </tr>\n",
              "    <tr>\n",
              "      <th>2</th>\n",
              "      <td>502</td>\n",
              "      <td>Female</td>\n",
              "      <td>42</td>\n",
              "      <td>8</td>\n",
              "      <td>159660.80</td>\n",
              "      <td>3</td>\n",
              "      <td>1</td>\n",
              "      <td>0</td>\n",
              "      <td>113931.57</td>\n",
              "      <td>1</td>\n",
              "      <td>0</td>\n",
              "      <td>0</td>\n",
              "    </tr>\n",
              "    <tr>\n",
              "      <th>3</th>\n",
              "      <td>699</td>\n",
              "      <td>Female</td>\n",
              "      <td>39</td>\n",
              "      <td>1</td>\n",
              "      <td>0.00</td>\n",
              "      <td>2</td>\n",
              "      <td>0</td>\n",
              "      <td>0</td>\n",
              "      <td>93826.63</td>\n",
              "      <td>1</td>\n",
              "      <td>0</td>\n",
              "      <td>0</td>\n",
              "    </tr>\n",
              "    <tr>\n",
              "      <th>4</th>\n",
              "      <td>850</td>\n",
              "      <td>Female</td>\n",
              "      <td>43</td>\n",
              "      <td>2</td>\n",
              "      <td>125510.82</td>\n",
              "      <td>1</td>\n",
              "      <td>1</td>\n",
              "      <td>1</td>\n",
              "      <td>79084.10</td>\n",
              "      <td>0</td>\n",
              "      <td>0</td>\n",
              "      <td>1</td>\n",
              "    </tr>\n",
              "  </tbody>\n",
              "</table>\n",
              "</div>\n",
              "      <button class=\"colab-df-convert\" onclick=\"convertToInteractive('df-ac7e6897-7a28-4658-8a27-7aa2dfbe85e8')\"\n",
              "              title=\"Convert this dataframe to an interactive table.\"\n",
              "              style=\"display:none;\">\n",
              "        \n",
              "  <svg xmlns=\"http://www.w3.org/2000/svg\" height=\"24px\"viewBox=\"0 0 24 24\"\n",
              "       width=\"24px\">\n",
              "    <path d=\"M0 0h24v24H0V0z\" fill=\"none\"/>\n",
              "    <path d=\"M18.56 5.44l.94 2.06.94-2.06 2.06-.94-2.06-.94-.94-2.06-.94 2.06-2.06.94zm-11 1L8.5 8.5l.94-2.06 2.06-.94-2.06-.94L8.5 2.5l-.94 2.06-2.06.94zm10 10l.94 2.06.94-2.06 2.06-.94-2.06-.94-.94-2.06-.94 2.06-2.06.94z\"/><path d=\"M17.41 7.96l-1.37-1.37c-.4-.4-.92-.59-1.43-.59-.52 0-1.04.2-1.43.59L10.3 9.45l-7.72 7.72c-.78.78-.78 2.05 0 2.83L4 21.41c.39.39.9.59 1.41.59.51 0 1.02-.2 1.41-.59l7.78-7.78 2.81-2.81c.8-.78.8-2.07 0-2.86zM5.41 20L4 18.59l7.72-7.72 1.47 1.35L5.41 20z\"/>\n",
              "  </svg>\n",
              "      </button>\n",
              "      \n",
              "  <style>\n",
              "    .colab-df-container {\n",
              "      display:flex;\n",
              "      flex-wrap:wrap;\n",
              "      gap: 12px;\n",
              "    }\n",
              "\n",
              "    .colab-df-convert {\n",
              "      background-color: #E8F0FE;\n",
              "      border: none;\n",
              "      border-radius: 50%;\n",
              "      cursor: pointer;\n",
              "      display: none;\n",
              "      fill: #1967D2;\n",
              "      height: 32px;\n",
              "      padding: 0 0 0 0;\n",
              "      width: 32px;\n",
              "    }\n",
              "\n",
              "    .colab-df-convert:hover {\n",
              "      background-color: #E2EBFA;\n",
              "      box-shadow: 0px 1px 2px rgba(60, 64, 67, 0.3), 0px 1px 3px 1px rgba(60, 64, 67, 0.15);\n",
              "      fill: #174EA6;\n",
              "    }\n",
              "\n",
              "    [theme=dark] .colab-df-convert {\n",
              "      background-color: #3B4455;\n",
              "      fill: #D2E3FC;\n",
              "    }\n",
              "\n",
              "    [theme=dark] .colab-df-convert:hover {\n",
              "      background-color: #434B5C;\n",
              "      box-shadow: 0px 1px 3px 1px rgba(0, 0, 0, 0.15);\n",
              "      filter: drop-shadow(0px 1px 2px rgba(0, 0, 0, 0.3));\n",
              "      fill: #FFFFFF;\n",
              "    }\n",
              "  </style>\n",
              "\n",
              "      <script>\n",
              "        const buttonEl =\n",
              "          document.querySelector('#df-ac7e6897-7a28-4658-8a27-7aa2dfbe85e8 button.colab-df-convert');\n",
              "        buttonEl.style.display =\n",
              "          google.colab.kernel.accessAllowed ? 'block' : 'none';\n",
              "\n",
              "        async function convertToInteractive(key) {\n",
              "          const element = document.querySelector('#df-ac7e6897-7a28-4658-8a27-7aa2dfbe85e8');\n",
              "          const dataTable =\n",
              "            await google.colab.kernel.invokeFunction('convertToInteractive',\n",
              "                                                     [key], {});\n",
              "          if (!dataTable) return;\n",
              "\n",
              "          const docLinkHtml = 'Like what you see? Visit the ' +\n",
              "            '<a target=\"_blank\" href=https://colab.research.google.com/notebooks/data_table.ipynb>data table notebook</a>'\n",
              "            + ' to learn more about interactive tables.';\n",
              "          element.innerHTML = '';\n",
              "          dataTable['output_type'] = 'display_data';\n",
              "          await google.colab.output.renderOutput(dataTable, element);\n",
              "          const docLink = document.createElement('div');\n",
              "          docLink.innerHTML = docLinkHtml;\n",
              "          element.appendChild(docLink);\n",
              "        }\n",
              "      </script>\n",
              "    </div>\n",
              "  </div>\n",
              "  "
            ]
          },
          "metadata": {},
          "execution_count": 33
        }
      ]
    },
    {
      "cell_type": "code",
      "source": [
        "label1 = LabelEncoder()\n",
        "features['Gender'] = label1.fit_transform(features['Gender'])"
      ],
      "metadata": {
        "id": "u_JQfGa8eipk"
      },
      "execution_count": null,
      "outputs": []
    },
    {
      "cell_type": "code",
      "source": [
        "features.head()"
      ],
      "metadata": {
        "id": "nKsKhfVOfNxF",
        "colab": {
          "base_uri": "https://localhost:8080/",
          "height": 206
        },
        "outputId": "eb2604b8-076d-41c7-d54a-033746a20580"
      },
      "execution_count": null,
      "outputs": [
        {
          "output_type": "execute_result",
          "data": {
            "text/plain": [
              "   CreditScore  Gender  Age  Tenure    Balance  NumOfProducts  HasCrCard  \\\n",
              "0          619       0   42       2       0.00              1          1   \n",
              "1          608       0   41       1   83807.86              1          0   \n",
              "2          502       0   42       8  159660.80              3          1   \n",
              "3          699       0   39       1       0.00              2          0   \n",
              "4          850       0   43       2  125510.82              1          1   \n",
              "\n",
              "   IsActiveMember  EstimatedSalary  geo_France  geo_Germany  geo_Spain  \n",
              "0               1        101348.88           1            0          0  \n",
              "1               1        112542.58           0            0          1  \n",
              "2               0        113931.57           1            0          0  \n",
              "3               0         93826.63           1            0          0  \n",
              "4               1         79084.10           0            0          1  "
            ],
            "text/html": [
              "\n",
              "  <div id=\"df-3b1c13f9-0100-415e-b5d3-c0b13f5812e4\">\n",
              "    <div class=\"colab-df-container\">\n",
              "      <div>\n",
              "<style scoped>\n",
              "    .dataframe tbody tr th:only-of-type {\n",
              "        vertical-align: middle;\n",
              "    }\n",
              "\n",
              "    .dataframe tbody tr th {\n",
              "        vertical-align: top;\n",
              "    }\n",
              "\n",
              "    .dataframe thead th {\n",
              "        text-align: right;\n",
              "    }\n",
              "</style>\n",
              "<table border=\"1\" class=\"dataframe\">\n",
              "  <thead>\n",
              "    <tr style=\"text-align: right;\">\n",
              "      <th></th>\n",
              "      <th>CreditScore</th>\n",
              "      <th>Gender</th>\n",
              "      <th>Age</th>\n",
              "      <th>Tenure</th>\n",
              "      <th>Balance</th>\n",
              "      <th>NumOfProducts</th>\n",
              "      <th>HasCrCard</th>\n",
              "      <th>IsActiveMember</th>\n",
              "      <th>EstimatedSalary</th>\n",
              "      <th>geo_France</th>\n",
              "      <th>geo_Germany</th>\n",
              "      <th>geo_Spain</th>\n",
              "    </tr>\n",
              "  </thead>\n",
              "  <tbody>\n",
              "    <tr>\n",
              "      <th>0</th>\n",
              "      <td>619</td>\n",
              "      <td>0</td>\n",
              "      <td>42</td>\n",
              "      <td>2</td>\n",
              "      <td>0.00</td>\n",
              "      <td>1</td>\n",
              "      <td>1</td>\n",
              "      <td>1</td>\n",
              "      <td>101348.88</td>\n",
              "      <td>1</td>\n",
              "      <td>0</td>\n",
              "      <td>0</td>\n",
              "    </tr>\n",
              "    <tr>\n",
              "      <th>1</th>\n",
              "      <td>608</td>\n",
              "      <td>0</td>\n",
              "      <td>41</td>\n",
              "      <td>1</td>\n",
              "      <td>83807.86</td>\n",
              "      <td>1</td>\n",
              "      <td>0</td>\n",
              "      <td>1</td>\n",
              "      <td>112542.58</td>\n",
              "      <td>0</td>\n",
              "      <td>0</td>\n",
              "      <td>1</td>\n",
              "    </tr>\n",
              "    <tr>\n",
              "      <th>2</th>\n",
              "      <td>502</td>\n",
              "      <td>0</td>\n",
              "      <td>42</td>\n",
              "      <td>8</td>\n",
              "      <td>159660.80</td>\n",
              "      <td>3</td>\n",
              "      <td>1</td>\n",
              "      <td>0</td>\n",
              "      <td>113931.57</td>\n",
              "      <td>1</td>\n",
              "      <td>0</td>\n",
              "      <td>0</td>\n",
              "    </tr>\n",
              "    <tr>\n",
              "      <th>3</th>\n",
              "      <td>699</td>\n",
              "      <td>0</td>\n",
              "      <td>39</td>\n",
              "      <td>1</td>\n",
              "      <td>0.00</td>\n",
              "      <td>2</td>\n",
              "      <td>0</td>\n",
              "      <td>0</td>\n",
              "      <td>93826.63</td>\n",
              "      <td>1</td>\n",
              "      <td>0</td>\n",
              "      <td>0</td>\n",
              "    </tr>\n",
              "    <tr>\n",
              "      <th>4</th>\n",
              "      <td>850</td>\n",
              "      <td>0</td>\n",
              "      <td>43</td>\n",
              "      <td>2</td>\n",
              "      <td>125510.82</td>\n",
              "      <td>1</td>\n",
              "      <td>1</td>\n",
              "      <td>1</td>\n",
              "      <td>79084.10</td>\n",
              "      <td>0</td>\n",
              "      <td>0</td>\n",
              "      <td>1</td>\n",
              "    </tr>\n",
              "  </tbody>\n",
              "</table>\n",
              "</div>\n",
              "      <button class=\"colab-df-convert\" onclick=\"convertToInteractive('df-3b1c13f9-0100-415e-b5d3-c0b13f5812e4')\"\n",
              "              title=\"Convert this dataframe to an interactive table.\"\n",
              "              style=\"display:none;\">\n",
              "        \n",
              "  <svg xmlns=\"http://www.w3.org/2000/svg\" height=\"24px\"viewBox=\"0 0 24 24\"\n",
              "       width=\"24px\">\n",
              "    <path d=\"M0 0h24v24H0V0z\" fill=\"none\"/>\n",
              "    <path d=\"M18.56 5.44l.94 2.06.94-2.06 2.06-.94-2.06-.94-.94-2.06-.94 2.06-2.06.94zm-11 1L8.5 8.5l.94-2.06 2.06-.94-2.06-.94L8.5 2.5l-.94 2.06-2.06.94zm10 10l.94 2.06.94-2.06 2.06-.94-2.06-.94-.94-2.06-.94 2.06-2.06.94z\"/><path d=\"M17.41 7.96l-1.37-1.37c-.4-.4-.92-.59-1.43-.59-.52 0-1.04.2-1.43.59L10.3 9.45l-7.72 7.72c-.78.78-.78 2.05 0 2.83L4 21.41c.39.39.9.59 1.41.59.51 0 1.02-.2 1.41-.59l7.78-7.78 2.81-2.81c.8-.78.8-2.07 0-2.86zM5.41 20L4 18.59l7.72-7.72 1.47 1.35L5.41 20z\"/>\n",
              "  </svg>\n",
              "      </button>\n",
              "      \n",
              "  <style>\n",
              "    .colab-df-container {\n",
              "      display:flex;\n",
              "      flex-wrap:wrap;\n",
              "      gap: 12px;\n",
              "    }\n",
              "\n",
              "    .colab-df-convert {\n",
              "      background-color: #E8F0FE;\n",
              "      border: none;\n",
              "      border-radius: 50%;\n",
              "      cursor: pointer;\n",
              "      display: none;\n",
              "      fill: #1967D2;\n",
              "      height: 32px;\n",
              "      padding: 0 0 0 0;\n",
              "      width: 32px;\n",
              "    }\n",
              "\n",
              "    .colab-df-convert:hover {\n",
              "      background-color: #E2EBFA;\n",
              "      box-shadow: 0px 1px 2px rgba(60, 64, 67, 0.3), 0px 1px 3px 1px rgba(60, 64, 67, 0.15);\n",
              "      fill: #174EA6;\n",
              "    }\n",
              "\n",
              "    [theme=dark] .colab-df-convert {\n",
              "      background-color: #3B4455;\n",
              "      fill: #D2E3FC;\n",
              "    }\n",
              "\n",
              "    [theme=dark] .colab-df-convert:hover {\n",
              "      background-color: #434B5C;\n",
              "      box-shadow: 0px 1px 3px 1px rgba(0, 0, 0, 0.15);\n",
              "      filter: drop-shadow(0px 1px 2px rgba(0, 0, 0, 0.3));\n",
              "      fill: #FFFFFF;\n",
              "    }\n",
              "  </style>\n",
              "\n",
              "      <script>\n",
              "        const buttonEl =\n",
              "          document.querySelector('#df-3b1c13f9-0100-415e-b5d3-c0b13f5812e4 button.colab-df-convert');\n",
              "        buttonEl.style.display =\n",
              "          google.colab.kernel.accessAllowed ? 'block' : 'none';\n",
              "\n",
              "        async function convertToInteractive(key) {\n",
              "          const element = document.querySelector('#df-3b1c13f9-0100-415e-b5d3-c0b13f5812e4');\n",
              "          const dataTable =\n",
              "            await google.colab.kernel.invokeFunction('convertToInteractive',\n",
              "                                                     [key], {});\n",
              "          if (!dataTable) return;\n",
              "\n",
              "          const docLinkHtml = 'Like what you see? Visit the ' +\n",
              "            '<a target=\"_blank\" href=https://colab.research.google.com/notebooks/data_table.ipynb>data table notebook</a>'\n",
              "            + ' to learn more about interactive tables.';\n",
              "          element.innerHTML = '';\n",
              "          dataTable['output_type'] = 'display_data';\n",
              "          await google.colab.output.renderOutput(dataTable, element);\n",
              "          const docLink = document.createElement('div');\n",
              "          docLink.innerHTML = docLinkHtml;\n",
              "          element.appendChild(docLink);\n",
              "        }\n",
              "      </script>\n",
              "    </div>\n",
              "  </div>\n",
              "  "
            ]
          },
          "metadata": {},
          "execution_count": 35
        }
      ]
    },
    {
      "cell_type": "code",
      "source": [
        "train,test,trainlabel,testlabel = train_test_split(features, target, test_size = 0.2, random_state = 1)"
      ],
      "metadata": {
        "id": "T3TU90Gvek4j"
      },
      "execution_count": null,
      "outputs": []
    },
    {
      "cell_type": "code",
      "source": [
        "print(\"Training samples:\" , train.shape[0])\n",
        "print(\"Testing samples:\" ,test.shape[0])\n",
        "print(\"Training sample size:\",train.shape)\n",
        "print(\"Testing sample size:\",test.shape)"
      ],
      "metadata": {
        "id": "TJ6sIB-AewwE",
        "colab": {
          "base_uri": "https://localhost:8080/"
        },
        "outputId": "6cc8c9e6-d686-4481-f48f-29f5324ea7a0"
      },
      "execution_count": null,
      "outputs": [
        {
          "output_type": "stream",
          "name": "stdout",
          "text": [
            "Training samples: 8000\n",
            "Testing samples: 2000\n",
            "Training sample size: (8000, 12)\n",
            "Testing sample size: (2000, 12)\n"
          ]
        }
      ]
    },
    {
      "cell_type": "code",
      "source": [
        "from sklearn.preprocessing import StandardScaler\n",
        "sc = StandardScaler() \n",
        "train = sc.fit_transform(train)# Scaling fitted only to training set to avoid information leakage.\n",
        "test = sc.transform(test)\n",
        "\n",
        "\n"
      ],
      "metadata": {
        "id": "cxJm-GOVfgAj"
      },
      "execution_count": null,
      "outputs": []
    },
    {
      "cell_type": "code",
      "source": [
        "from keras.models import load_model \n",
        "model = keras.Sequential([\n",
        "    keras.layers.Dense(26, input_shape=(26,), activation='relu'),\n",
        "    keras.layers.Dense(15, activation='relu'),\n",
        "    keras.layers.Dense(1, activation='sigmoid')\n",
        "])\n"
      ],
      "metadata": {
        "id": "N2JmLoq3ixil"
      },
      "execution_count": null,
      "outputs": []
    },
    {
      "cell_type": "code",
      "source": [
        "#Create a variable to represent the ANN model as an instance\n",
        "model = Sequential([\n",
        "        keras.layers.Dense(units=32,activation=\"relu\",kernel_initializer=\"normal\",input_dim = 12), #input layer and hidden layer\n",
        "        keras.layers.Dense(units=16,activation=\"relu\",kernel_initializer=\"normal\"), #hidden layer\n",
        "        keras.layers.Dense(units=1,activation=\"sigmoid\",kernel_initializer=\"normal\") #output layer\n",
        "      ])"
      ],
      "metadata": {
        "id": "fxolwMFRmwKO"
      },
      "execution_count": null,
      "outputs": []
    },
    {
      "cell_type": "code",
      "source": [
        "#Create a variable to represent the ANN model as an instance\n",
        "model = Sequential([\n",
        "        keras.layers.Dense(units=32,activation=\"relu\",kernel_initializer=\"normal\",input_dim = 12), #input layer and hidden layer\n",
        "        keras.layers.Dense(units=16,activation=\"relu\",kernel_initializer=\"normal\"), #hidden layer\n",
        "        keras.layers.Dense(units=1,activation=\"sigmoid\",kernel_initializer=\"normal\") #output layer\n",
        "      ])"
      ],
      "metadata": {
        "id": "xAab8oIVft50"
      },
      "execution_count": null,
      "outputs": []
    },
    {
      "cell_type": "code",
      "source": [
        "model.compile(optimizer='adam', loss= 'binary_crossentropy', metrics=['accuracy'])"
      ],
      "metadata": {
        "id": "3ih0sCJuioi9"
      },
      "execution_count": null,
      "outputs": []
    },
    {
      "cell_type": "code",
      "source": [
        "model.fit(train,trainlabel,batch_size=20,epochs = 100) #model run for 100 epochs"
      ],
      "metadata": {
        "colab": {
          "base_uri": "https://localhost:8080/"
        },
        "id": "Tfqfm1MYosEz",
        "outputId": "3527b676-7756-469b-c26e-849118ec1048"
      },
      "execution_count": null,
      "outputs": [
        {
          "output_type": "stream",
          "name": "stdout",
          "text": [
            "Epoch 1/100\n",
            "400/400 [==============================] - 3s 4ms/step - loss: 0.4740 - accuracy: 0.7972\n",
            "Epoch 2/100\n",
            "400/400 [==============================] - 2s 4ms/step - loss: 0.4241 - accuracy: 0.8024\n",
            "Epoch 3/100\n",
            "400/400 [==============================] - 2s 4ms/step - loss: 0.4162 - accuracy: 0.8284\n",
            "Epoch 4/100\n",
            "400/400 [==============================] - 1s 2ms/step - loss: 0.4107 - accuracy: 0.8339\n",
            "Epoch 5/100\n",
            "400/400 [==============================] - 1s 2ms/step - loss: 0.4064 - accuracy: 0.8346\n",
            "Epoch 6/100\n",
            "400/400 [==============================] - 1s 2ms/step - loss: 0.4032 - accuracy: 0.8356\n",
            "Epoch 7/100\n",
            "400/400 [==============================] - 1s 2ms/step - loss: 0.4013 - accuracy: 0.8350\n",
            "Epoch 8/100\n",
            "400/400 [==============================] - 1s 2ms/step - loss: 0.3992 - accuracy: 0.8371\n",
            "Epoch 9/100\n",
            "400/400 [==============================] - 1s 2ms/step - loss: 0.3980 - accuracy: 0.8360\n",
            "Epoch 10/100\n",
            "400/400 [==============================] - 1s 3ms/step - loss: 0.3959 - accuracy: 0.8360\n",
            "Epoch 11/100\n",
            "400/400 [==============================] - 2s 5ms/step - loss: 0.3909 - accuracy: 0.8384\n",
            "Epoch 12/100\n",
            "400/400 [==============================] - 1s 2ms/step - loss: 0.3791 - accuracy: 0.8456\n",
            "Epoch 13/100\n",
            "400/400 [==============================] - 1s 3ms/step - loss: 0.3626 - accuracy: 0.8536\n",
            "Epoch 14/100\n",
            "400/400 [==============================] - 1s 2ms/step - loss: 0.3501 - accuracy: 0.8589\n",
            "Epoch 15/100\n",
            "400/400 [==============================] - 1s 3ms/step - loss: 0.3419 - accuracy: 0.8608\n",
            "Epoch 16/100\n",
            "400/400 [==============================] - 1s 3ms/step - loss: 0.3385 - accuracy: 0.8605\n",
            "Epoch 17/100\n",
            "400/400 [==============================] - 1s 3ms/step - loss: 0.3358 - accuracy: 0.8627\n",
            "Epoch 18/100\n",
            "400/400 [==============================] - 1s 2ms/step - loss: 0.3351 - accuracy: 0.8643\n",
            "Epoch 19/100\n",
            "400/400 [==============================] - 1s 2ms/step - loss: 0.3347 - accuracy: 0.8631\n",
            "Epoch 20/100\n",
            "400/400 [==============================] - 1s 2ms/step - loss: 0.3337 - accuracy: 0.8616\n",
            "Epoch 21/100\n",
            "400/400 [==============================] - 1s 2ms/step - loss: 0.3333 - accuracy: 0.8636\n",
            "Epoch 22/100\n",
            "400/400 [==============================] - 1s 2ms/step - loss: 0.3335 - accuracy: 0.8654\n",
            "Epoch 23/100\n",
            "400/400 [==============================] - 1s 2ms/step - loss: 0.3324 - accuracy: 0.8634\n",
            "Epoch 24/100\n",
            "400/400 [==============================] - 1s 2ms/step - loss: 0.3320 - accuracy: 0.8639\n",
            "Epoch 25/100\n",
            "400/400 [==============================] - 1s 2ms/step - loss: 0.3328 - accuracy: 0.8644\n",
            "Epoch 26/100\n",
            "400/400 [==============================] - 1s 2ms/step - loss: 0.3315 - accuracy: 0.8645\n",
            "Epoch 27/100\n",
            "400/400 [==============================] - 1s 2ms/step - loss: 0.3312 - accuracy: 0.8630\n",
            "Epoch 28/100\n",
            "400/400 [==============================] - 1s 2ms/step - loss: 0.3309 - accuracy: 0.8649\n",
            "Epoch 29/100\n",
            "400/400 [==============================] - 1s 2ms/step - loss: 0.3304 - accuracy: 0.8631\n",
            "Epoch 30/100\n",
            "400/400 [==============================] - 2s 6ms/step - loss: 0.3303 - accuracy: 0.8645\n",
            "Epoch 31/100\n",
            "400/400 [==============================] - 2s 5ms/step - loss: 0.3306 - accuracy: 0.8652\n",
            "Epoch 32/100\n",
            "400/400 [==============================] - 2s 4ms/step - loss: 0.3301 - accuracy: 0.8643\n",
            "Epoch 33/100\n",
            "400/400 [==============================] - 2s 6ms/step - loss: 0.3283 - accuracy: 0.8652\n",
            "Epoch 34/100\n",
            "400/400 [==============================] - 2s 5ms/step - loss: 0.3289 - accuracy: 0.8652\n",
            "Epoch 35/100\n",
            "400/400 [==============================] - 2s 4ms/step - loss: 0.3290 - accuracy: 0.8626\n",
            "Epoch 36/100\n",
            "400/400 [==============================] - 2s 4ms/step - loss: 0.3287 - accuracy: 0.8649\n",
            "Epoch 37/100\n",
            "400/400 [==============================] - 2s 4ms/step - loss: 0.3281 - accuracy: 0.8639\n",
            "Epoch 38/100\n",
            "400/400 [==============================] - 2s 6ms/step - loss: 0.3276 - accuracy: 0.8639\n",
            "Epoch 39/100\n",
            "400/400 [==============================] - 3s 7ms/step - loss: 0.3279 - accuracy: 0.8670\n",
            "Epoch 40/100\n",
            "400/400 [==============================] - 1s 3ms/step - loss: 0.3273 - accuracy: 0.8634\n",
            "Epoch 41/100\n",
            "400/400 [==============================] - 1s 3ms/step - loss: 0.3270 - accuracy: 0.8641\n",
            "Epoch 42/100\n",
            "400/400 [==============================] - 1s 3ms/step - loss: 0.3273 - accuracy: 0.8641\n",
            "Epoch 43/100\n",
            "400/400 [==============================] - 1s 2ms/step - loss: 0.3261 - accuracy: 0.8662\n",
            "Epoch 44/100\n",
            "400/400 [==============================] - 1s 2ms/step - loss: 0.3263 - accuracy: 0.8654\n",
            "Epoch 45/100\n",
            "400/400 [==============================] - 1s 2ms/step - loss: 0.3258 - accuracy: 0.8646\n",
            "Epoch 46/100\n",
            "400/400 [==============================] - 1s 3ms/step - loss: 0.3255 - accuracy: 0.8648\n",
            "Epoch 47/100\n",
            "400/400 [==============================] - 1s 3ms/step - loss: 0.3260 - accuracy: 0.8654\n",
            "Epoch 48/100\n",
            "400/400 [==============================] - 1s 3ms/step - loss: 0.3258 - accuracy: 0.8679\n",
            "Epoch 49/100\n",
            "400/400 [==============================] - 2s 4ms/step - loss: 0.3261 - accuracy: 0.8637\n",
            "Epoch 50/100\n",
            "400/400 [==============================] - 2s 4ms/step - loss: 0.3250 - accuracy: 0.8646\n",
            "Epoch 51/100\n",
            "400/400 [==============================] - 2s 4ms/step - loss: 0.3250 - accuracy: 0.8661\n",
            "Epoch 52/100\n",
            "400/400 [==============================] - 3s 7ms/step - loss: 0.3246 - accuracy: 0.8660\n",
            "Epoch 53/100\n",
            "400/400 [==============================] - 2s 5ms/step - loss: 0.3243 - accuracy: 0.8644\n",
            "Epoch 54/100\n",
            "400/400 [==============================] - 3s 7ms/step - loss: 0.3239 - accuracy: 0.8640\n",
            "Epoch 55/100\n",
            "400/400 [==============================] - 2s 5ms/step - loss: 0.3245 - accuracy: 0.8637\n",
            "Epoch 56/100\n",
            "400/400 [==============================] - 2s 4ms/step - loss: 0.3244 - accuracy: 0.8644\n",
            "Epoch 57/100\n",
            "400/400 [==============================] - 2s 4ms/step - loss: 0.3240 - accuracy: 0.8654\n",
            "Epoch 58/100\n",
            "400/400 [==============================] - 1s 3ms/step - loss: 0.3236 - accuracy: 0.8648\n",
            "Epoch 59/100\n",
            "400/400 [==============================] - 1s 3ms/step - loss: 0.3238 - accuracy: 0.8640\n",
            "Epoch 60/100\n",
            "400/400 [==============================] - 2s 4ms/step - loss: 0.3234 - accuracy: 0.8655\n",
            "Epoch 61/100\n",
            "400/400 [==============================] - 2s 4ms/step - loss: 0.3234 - accuracy: 0.8654\n",
            "Epoch 62/100\n",
            "400/400 [==============================] - 1s 3ms/step - loss: 0.3224 - accuracy: 0.8650\n",
            "Epoch 63/100\n",
            "400/400 [==============================] - 1s 3ms/step - loss: 0.3218 - accuracy: 0.8677\n",
            "Epoch 64/100\n",
            "400/400 [==============================] - 1s 2ms/step - loss: 0.3230 - accuracy: 0.8635\n",
            "Epoch 65/100\n",
            "400/400 [==============================] - 1s 2ms/step - loss: 0.3230 - accuracy: 0.8662\n",
            "Epoch 66/100\n",
            "400/400 [==============================] - 1s 2ms/step - loss: 0.3225 - accuracy: 0.8656\n",
            "Epoch 67/100\n",
            "400/400 [==============================] - 1s 2ms/step - loss: 0.3226 - accuracy: 0.8656\n",
            "Epoch 68/100\n",
            "400/400 [==============================] - 1s 2ms/step - loss: 0.3226 - accuracy: 0.8650\n",
            "Epoch 69/100\n",
            "400/400 [==============================] - 1s 2ms/step - loss: 0.3221 - accuracy: 0.8658\n",
            "Epoch 70/100\n",
            "400/400 [==============================] - 1s 2ms/step - loss: 0.3219 - accuracy: 0.8658\n",
            "Epoch 71/100\n",
            "400/400 [==============================] - 1s 2ms/step - loss: 0.3225 - accuracy: 0.8650\n",
            "Epoch 72/100\n",
            "400/400 [==============================] - 1s 2ms/step - loss: 0.3220 - accuracy: 0.8652\n",
            "Epoch 73/100\n",
            "400/400 [==============================] - 1s 2ms/step - loss: 0.3218 - accuracy: 0.8660\n",
            "Epoch 74/100\n",
            "400/400 [==============================] - 1s 2ms/step - loss: 0.3217 - accuracy: 0.8661\n",
            "Epoch 75/100\n",
            "400/400 [==============================] - 1s 2ms/step - loss: 0.3216 - accuracy: 0.8658\n",
            "Epoch 76/100\n",
            "400/400 [==============================] - 1s 2ms/step - loss: 0.3220 - accuracy: 0.8644\n",
            "Epoch 77/100\n",
            "400/400 [==============================] - 1s 2ms/step - loss: 0.3220 - accuracy: 0.8656\n",
            "Epoch 78/100\n",
            "400/400 [==============================] - 1s 2ms/step - loss: 0.3209 - accuracy: 0.8666\n",
            "Epoch 79/100\n",
            "400/400 [==============================] - 1s 2ms/step - loss: 0.3208 - accuracy: 0.8649\n",
            "Epoch 80/100\n",
            "400/400 [==============================] - 1s 4ms/step - loss: 0.3209 - accuracy: 0.8673\n",
            "Epoch 81/100\n",
            "400/400 [==============================] - 2s 4ms/step - loss: 0.3206 - accuracy: 0.8659\n",
            "Epoch 82/100\n",
            "400/400 [==============================] - 1s 3ms/step - loss: 0.3213 - accuracy: 0.8651\n",
            "Epoch 83/100\n",
            "400/400 [==============================] - 2s 5ms/step - loss: 0.3205 - accuracy: 0.8666\n",
            "Epoch 84/100\n",
            "400/400 [==============================] - 1s 3ms/step - loss: 0.3200 - accuracy: 0.8685\n",
            "Epoch 85/100\n",
            "400/400 [==============================] - 1s 3ms/step - loss: 0.3206 - accuracy: 0.8659\n",
            "Epoch 86/100\n",
            "400/400 [==============================] - 1s 4ms/step - loss: 0.3202 - accuracy: 0.8664\n",
            "Epoch 87/100\n",
            "400/400 [==============================] - 1s 3ms/step - loss: 0.3200 - accuracy: 0.8670\n",
            "Epoch 88/100\n",
            "400/400 [==============================] - 1s 3ms/step - loss: 0.3199 - accuracy: 0.8646\n",
            "Epoch 89/100\n",
            "400/400 [==============================] - 2s 5ms/step - loss: 0.3207 - accuracy: 0.8675\n",
            "Epoch 90/100\n",
            "400/400 [==============================] - 1s 3ms/step - loss: 0.3198 - accuracy: 0.8673\n",
            "Epoch 91/100\n",
            "400/400 [==============================] - 1s 3ms/step - loss: 0.3199 - accuracy: 0.8680\n",
            "Epoch 92/100\n",
            "400/400 [==============================] - 2s 4ms/step - loss: 0.3200 - accuracy: 0.8676\n",
            "Epoch 93/100\n",
            "400/400 [==============================] - 1s 2ms/step - loss: 0.3194 - accuracy: 0.8662\n",
            "Epoch 94/100\n",
            "400/400 [==============================] - 1s 2ms/step - loss: 0.3186 - accuracy: 0.8675\n",
            "Epoch 95/100\n",
            "400/400 [==============================] - 1s 2ms/step - loss: 0.3193 - accuracy: 0.8673\n",
            "Epoch 96/100\n",
            "400/400 [==============================] - 1s 2ms/step - loss: 0.3197 - accuracy: 0.8685\n",
            "Epoch 97/100\n",
            "400/400 [==============================] - 1s 2ms/step - loss: 0.3188 - accuracy: 0.8674\n",
            "Epoch 98/100\n",
            "400/400 [==============================] - 1s 2ms/step - loss: 0.3183 - accuracy: 0.8679\n",
            "Epoch 99/100\n",
            "400/400 [==============================] - 1s 2ms/step - loss: 0.3192 - accuracy: 0.8689\n",
            "Epoch 100/100\n",
            "400/400 [==============================] - 1s 2ms/step - loss: 0.3182 - accuracy: 0.8686\n"
          ]
        },
        {
          "output_type": "execute_result",
          "data": {
            "text/plain": [
              "<keras.callbacks.History at 0x7fb4a1b61350>"
            ]
          },
          "metadata": {},
          "execution_count": 43
        }
      ]
    },
    {
      "cell_type": "code",
      "source": [
        "model.fit(train,trainlabel,batch_size=20,epochs = 100) #model run for 100 epochs"
      ],
      "metadata": {
        "colab": {
          "base_uri": "https://localhost:8080/"
        },
        "id": "20xN6mdRozOD",
        "outputId": "cb79ba53-093d-46ec-b98a-e7609a5e3588"
      },
      "execution_count": null,
      "outputs": [
        {
          "output_type": "stream",
          "name": "stdout",
          "text": [
            "Epoch 1/100\n",
            "400/400 [==============================] - 1s 2ms/step - loss: 0.3188 - accuracy: 0.8686\n",
            "Epoch 2/100\n",
            "400/400 [==============================] - 1s 2ms/step - loss: 0.3175 - accuracy: 0.8668\n",
            "Epoch 3/100\n",
            "400/400 [==============================] - 1s 2ms/step - loss: 0.3185 - accuracy: 0.8686\n",
            "Epoch 4/100\n",
            "400/400 [==============================] - 1s 2ms/step - loss: 0.3179 - accuracy: 0.8673\n",
            "Epoch 5/100\n",
            "400/400 [==============================] - 1s 2ms/step - loss: 0.3182 - accuracy: 0.8673\n",
            "Epoch 6/100\n",
            "400/400 [==============================] - 1s 2ms/step - loss: 0.3178 - accuracy: 0.8683\n",
            "Epoch 7/100\n",
            "400/400 [==============================] - 1s 2ms/step - loss: 0.3177 - accuracy: 0.8698\n",
            "Epoch 8/100\n",
            "400/400 [==============================] - 1s 2ms/step - loss: 0.3173 - accuracy: 0.8711\n",
            "Epoch 9/100\n",
            "400/400 [==============================] - 1s 2ms/step - loss: 0.3165 - accuracy: 0.8676\n",
            "Epoch 10/100\n",
            "400/400 [==============================] - 1s 2ms/step - loss: 0.3175 - accuracy: 0.8686\n",
            "Epoch 11/100\n",
            "400/400 [==============================] - 1s 2ms/step - loss: 0.3169 - accuracy: 0.8680\n",
            "Epoch 12/100\n",
            "400/400 [==============================] - 1s 2ms/step - loss: 0.3171 - accuracy: 0.8686\n",
            "Epoch 13/100\n",
            "400/400 [==============================] - 1s 2ms/step - loss: 0.3165 - accuracy: 0.8685\n",
            "Epoch 14/100\n",
            "400/400 [==============================] - 1s 2ms/step - loss: 0.3171 - accuracy: 0.8690\n",
            "Epoch 15/100\n",
            "400/400 [==============================] - 1s 2ms/step - loss: 0.3174 - accuracy: 0.8685\n",
            "Epoch 16/100\n",
            "400/400 [==============================] - 1s 2ms/step - loss: 0.3165 - accuracy: 0.8695\n",
            "Epoch 17/100\n",
            "400/400 [==============================] - 1s 2ms/step - loss: 0.3158 - accuracy: 0.8690\n",
            "Epoch 18/100\n",
            "400/400 [==============================] - 1s 2ms/step - loss: 0.3163 - accuracy: 0.8696\n",
            "Epoch 19/100\n",
            "400/400 [==============================] - 1s 2ms/step - loss: 0.3161 - accuracy: 0.8681\n",
            "Epoch 20/100\n",
            "400/400 [==============================] - 1s 2ms/step - loss: 0.3161 - accuracy: 0.8670\n",
            "Epoch 21/100\n",
            "400/400 [==============================] - 1s 2ms/step - loss: 0.3162 - accuracy: 0.8687\n",
            "Epoch 22/100\n",
            "400/400 [==============================] - 1s 2ms/step - loss: 0.3159 - accuracy: 0.8708\n",
            "Epoch 23/100\n",
            "400/400 [==============================] - 1s 2ms/step - loss: 0.3151 - accuracy: 0.8694\n",
            "Epoch 24/100\n",
            "400/400 [==============================] - 1s 2ms/step - loss: 0.3146 - accuracy: 0.8699\n",
            "Epoch 25/100\n",
            "400/400 [==============================] - 1s 2ms/step - loss: 0.3147 - accuracy: 0.8709\n",
            "Epoch 26/100\n",
            "400/400 [==============================] - 1s 2ms/step - loss: 0.3151 - accuracy: 0.8696\n",
            "Epoch 27/100\n",
            "400/400 [==============================] - 1s 2ms/step - loss: 0.3160 - accuracy: 0.8694\n",
            "Epoch 28/100\n",
            "400/400 [==============================] - 1s 3ms/step - loss: 0.3155 - accuracy: 0.8681\n",
            "Epoch 29/100\n",
            "400/400 [==============================] - 2s 4ms/step - loss: 0.3152 - accuracy: 0.8695\n",
            "Epoch 30/100\n",
            "400/400 [==============================] - 1s 3ms/step - loss: 0.3151 - accuracy: 0.8698\n",
            "Epoch 31/100\n",
            "400/400 [==============================] - 1s 3ms/step - loss: 0.3150 - accuracy: 0.8695\n",
            "Epoch 32/100\n",
            "400/400 [==============================] - 2s 4ms/step - loss: 0.3144 - accuracy: 0.8712\n",
            "Epoch 33/100\n",
            "400/400 [==============================] - 1s 3ms/step - loss: 0.3151 - accuracy: 0.8698\n",
            "Epoch 34/100\n",
            "400/400 [==============================] - 1s 3ms/step - loss: 0.3139 - accuracy: 0.8691\n",
            "Epoch 35/100\n",
            "400/400 [==============================] - 1s 3ms/step - loss: 0.3146 - accuracy: 0.8704\n",
            "Epoch 36/100\n",
            "400/400 [==============================] - 1s 4ms/step - loss: 0.3147 - accuracy: 0.8689\n",
            "Epoch 37/100\n",
            "400/400 [==============================] - 2s 5ms/step - loss: 0.3146 - accuracy: 0.8691\n",
            "Epoch 38/100\n",
            "400/400 [==============================] - 1s 3ms/step - loss: 0.3137 - accuracy: 0.8709\n",
            "Epoch 39/100\n",
            "400/400 [==============================] - 1s 2ms/step - loss: 0.3139 - accuracy: 0.8704\n",
            "Epoch 40/100\n",
            "400/400 [==============================] - 1s 2ms/step - loss: 0.3137 - accuracy: 0.8706\n",
            "Epoch 41/100\n",
            "400/400 [==============================] - 1s 2ms/step - loss: 0.3140 - accuracy: 0.8710\n",
            "Epoch 42/100\n",
            "400/400 [==============================] - 1s 2ms/step - loss: 0.3139 - accuracy: 0.8690\n",
            "Epoch 43/100\n",
            "400/400 [==============================] - 1s 2ms/step - loss: 0.3138 - accuracy: 0.8689\n",
            "Epoch 44/100\n",
            "400/400 [==============================] - 1s 2ms/step - loss: 0.3135 - accuracy: 0.8691\n",
            "Epoch 45/100\n",
            "400/400 [==============================] - 1s 2ms/step - loss: 0.3129 - accuracy: 0.8709\n",
            "Epoch 46/100\n",
            "400/400 [==============================] - 1s 2ms/step - loss: 0.3133 - accuracy: 0.8706\n",
            "Epoch 47/100\n",
            "400/400 [==============================] - 1s 2ms/step - loss: 0.3132 - accuracy: 0.8704\n",
            "Epoch 48/100\n",
            "400/400 [==============================] - 1s 2ms/step - loss: 0.3129 - accuracy: 0.8685\n",
            "Epoch 49/100\n",
            "400/400 [==============================] - 1s 2ms/step - loss: 0.3138 - accuracy: 0.8684\n",
            "Epoch 50/100\n",
            "400/400 [==============================] - 1s 2ms/step - loss: 0.3125 - accuracy: 0.8681\n",
            "Epoch 51/100\n",
            "400/400 [==============================] - 1s 2ms/step - loss: 0.3121 - accuracy: 0.8708\n",
            "Epoch 52/100\n",
            "400/400 [==============================] - 1s 2ms/step - loss: 0.3131 - accuracy: 0.8704\n",
            "Epoch 53/100\n",
            "400/400 [==============================] - 1s 2ms/step - loss: 0.3126 - accuracy: 0.8709\n",
            "Epoch 54/100\n",
            "400/400 [==============================] - 1s 2ms/step - loss: 0.3119 - accuracy: 0.8701\n",
            "Epoch 55/100\n",
            "400/400 [==============================] - 1s 2ms/step - loss: 0.3129 - accuracy: 0.8710\n",
            "Epoch 56/100\n",
            "400/400 [==============================] - 1s 2ms/step - loss: 0.3121 - accuracy: 0.8699\n",
            "Epoch 57/100\n",
            "400/400 [==============================] - 1s 2ms/step - loss: 0.3122 - accuracy: 0.8702\n",
            "Epoch 58/100\n",
            "400/400 [==============================] - 1s 2ms/step - loss: 0.3119 - accuracy: 0.8709\n",
            "Epoch 59/100\n",
            "400/400 [==============================] - 1s 2ms/step - loss: 0.3122 - accuracy: 0.8717\n",
            "Epoch 60/100\n",
            "400/400 [==============================] - 1s 2ms/step - loss: 0.3124 - accuracy: 0.8700\n",
            "Epoch 61/100\n",
            "400/400 [==============================] - 1s 2ms/step - loss: 0.3118 - accuracy: 0.8715\n",
            "Epoch 62/100\n",
            "400/400 [==============================] - 1s 2ms/step - loss: 0.3117 - accuracy: 0.8710\n",
            "Epoch 63/100\n",
            "400/400 [==============================] - 1s 3ms/step - loss: 0.3121 - accuracy: 0.8725\n",
            "Epoch 64/100\n",
            "400/400 [==============================] - 2s 4ms/step - loss: 0.3104 - accuracy: 0.8719\n",
            "Epoch 65/100\n",
            "400/400 [==============================] - 1s 3ms/step - loss: 0.3111 - accuracy: 0.8720\n",
            "Epoch 66/100\n",
            "400/400 [==============================] - 1s 3ms/step - loss: 0.3115 - accuracy: 0.8711\n",
            "Epoch 67/100\n",
            "400/400 [==============================] - 1s 3ms/step - loss: 0.3118 - accuracy: 0.8715\n",
            "Epoch 68/100\n",
            "400/400 [==============================] - 2s 5ms/step - loss: 0.3096 - accuracy: 0.8725\n",
            "Epoch 69/100\n",
            "400/400 [==============================] - 1s 3ms/step - loss: 0.3110 - accuracy: 0.8714\n",
            "Epoch 70/100\n",
            "400/400 [==============================] - 1s 3ms/step - loss: 0.3095 - accuracy: 0.8729\n",
            "Epoch 71/100\n",
            "400/400 [==============================] - 1s 3ms/step - loss: 0.3108 - accuracy: 0.8734\n",
            "Epoch 72/100\n",
            "400/400 [==============================] - 2s 4ms/step - loss: 0.3109 - accuracy: 0.8734\n",
            "Epoch 73/100\n",
            "400/400 [==============================] - 2s 4ms/step - loss: 0.3102 - accuracy: 0.8726\n",
            "Epoch 74/100\n",
            "400/400 [==============================] - 1s 2ms/step - loss: 0.3097 - accuracy: 0.8706\n",
            "Epoch 75/100\n",
            "400/400 [==============================] - 1s 2ms/step - loss: 0.3104 - accuracy: 0.8702\n",
            "Epoch 76/100\n",
            "400/400 [==============================] - 1s 2ms/step - loss: 0.3104 - accuracy: 0.8734\n",
            "Epoch 77/100\n",
            "400/400 [==============================] - 1s 2ms/step - loss: 0.3102 - accuracy: 0.8725\n",
            "Epoch 78/100\n",
            "400/400 [==============================] - 1s 2ms/step - loss: 0.3102 - accuracy: 0.8739\n",
            "Epoch 79/100\n",
            "400/400 [==============================] - 1s 2ms/step - loss: 0.3105 - accuracy: 0.8726\n",
            "Epoch 80/100\n",
            "400/400 [==============================] - 1s 2ms/step - loss: 0.3098 - accuracy: 0.8706\n",
            "Epoch 81/100\n",
            "400/400 [==============================] - 1s 2ms/step - loss: 0.3092 - accuracy: 0.8746\n",
            "Epoch 82/100\n",
            "400/400 [==============================] - 1s 2ms/step - loss: 0.3084 - accuracy: 0.8734\n",
            "Epoch 83/100\n",
            "400/400 [==============================] - 1s 2ms/step - loss: 0.3095 - accuracy: 0.8726\n",
            "Epoch 84/100\n",
            "400/400 [==============================] - 1s 2ms/step - loss: 0.3085 - accuracy: 0.8730\n",
            "Epoch 85/100\n",
            "400/400 [==============================] - 1s 2ms/step - loss: 0.3090 - accuracy: 0.8748\n",
            "Epoch 86/100\n",
            "400/400 [==============================] - 1s 2ms/step - loss: 0.3090 - accuracy: 0.8726\n",
            "Epoch 87/100\n",
            "400/400 [==============================] - 1s 2ms/step - loss: 0.3095 - accuracy: 0.8721\n",
            "Epoch 88/100\n",
            "400/400 [==============================] - 1s 2ms/step - loss: 0.3077 - accuracy: 0.8744\n",
            "Epoch 89/100\n",
            "400/400 [==============================] - 1s 2ms/step - loss: 0.3083 - accuracy: 0.8746\n",
            "Epoch 90/100\n",
            "400/400 [==============================] - 1s 2ms/step - loss: 0.3080 - accuracy: 0.8736\n",
            "Epoch 91/100\n",
            "400/400 [==============================] - 1s 2ms/step - loss: 0.3088 - accuracy: 0.8745\n",
            "Epoch 92/100\n",
            "400/400 [==============================] - 1s 2ms/step - loss: 0.3091 - accuracy: 0.8739\n",
            "Epoch 93/100\n",
            "400/400 [==============================] - 1s 2ms/step - loss: 0.3082 - accuracy: 0.8730\n",
            "Epoch 94/100\n",
            "400/400 [==============================] - 1s 2ms/step - loss: 0.3082 - accuracy: 0.8723\n",
            "Epoch 95/100\n",
            "400/400 [==============================] - 1s 2ms/step - loss: 0.3077 - accuracy: 0.8731\n",
            "Epoch 96/100\n",
            "400/400 [==============================] - 1s 2ms/step - loss: 0.3090 - accuracy: 0.8734\n",
            "Epoch 97/100\n",
            "400/400 [==============================] - 1s 2ms/step - loss: 0.3078 - accuracy: 0.8714\n",
            "Epoch 98/100\n",
            "400/400 [==============================] - 1s 2ms/step - loss: 0.3077 - accuracy: 0.8731\n",
            "Epoch 99/100\n",
            "400/400 [==============================] - 1s 3ms/step - loss: 0.3078 - accuracy: 0.8740\n",
            "Epoch 100/100\n",
            "400/400 [==============================] - 2s 4ms/step - loss: 0.3079 - accuracy: 0.8741\n"
          ]
        },
        {
          "output_type": "execute_result",
          "data": {
            "text/plain": [
              "<keras.callbacks.History at 0x7fb4a0a041d0>"
            ]
          },
          "metadata": {},
          "execution_count": 44
        }
      ]
    },
    {
      "cell_type": "code",
      "source": [
        "model.save(\"/content/drive/MyDrive/churn/model_pd_85.h5\")"
      ],
      "metadata": {
        "id": "WfL7O6ALo3HL"
      },
      "execution_count": null,
      "outputs": []
    },
    {
      "cell_type": "code",
      "source": [
        "from keras.models import load_model \n",
        "model = load_model(\"/content/drive/MyDrive/churn/model_pd_85.h5\") \n",
        "trainloss , trainaccuracy = model.evaluate(train,trainlabel)\n",
        "testloss, testaccuracy = model.evaluate(test,testlabel) \n",
        "print('Train loss:', trainloss)\n",
        "print('Train accuracy:', 100*trainaccuracy)\n",
        "print('Test loss:', testloss)\n",
        "print('Test accuracy:', 100*testaccuracy)"
      ],
      "metadata": {
        "colab": {
          "base_uri": "https://localhost:8080/"
        },
        "id": "fF-8VBeMo7Sz",
        "outputId": "ba79cdc6-7161-48e1-aa8e-3e46a044a9ed"
      },
      "execution_count": null,
      "outputs": [
        {
          "output_type": "stream",
          "name": "stdout",
          "text": [
            "250/250 [==============================] - 1s 1ms/step - loss: 0.3016 - accuracy: 0.8767\n",
            "63/63 [==============================] - 0s 2ms/step - loss: 0.3470 - accuracy: 0.8610\n",
            "Train loss: 0.30160093307495117\n",
            "Train accuracy: 87.67499923706055\n",
            "Test loss: 0.3469932973384857\n",
            "Test accuracy: 86.10000014305115\n"
          ]
        }
      ]
    },
    {
      "cell_type": "code",
      "source": [
        "y_predicted = model.predict(test)\n",
        "y_predicted_labels = y_predicted > 0.5\n",
        "cm = tf.math.confusion_matrix(labels=testlabel,predictions=y_predicted_labels)\n",
        "\n",
        "plt.figure(figsize = (10,7))\n",
        "sn.heatmap(cm, annot=True, fmt='d')\n",
        "plt.xlabel('Predicted')\n",
        "plt.ylabel('Expected')"
      ],
      "metadata": {
        "colab": {
          "base_uri": "https://localhost:8080/",
          "height": 459
        },
        "id": "SkoPfv-Lo-gT",
        "outputId": "a6d2102c-046a-4a52-f55e-b1966f91c544"
      },
      "execution_count": null,
      "outputs": [
        {
          "output_type": "execute_result",
          "data": {
            "text/plain": [
              "Text(69.0, 0.5, 'Expected')"
            ]
          },
          "metadata": {},
          "execution_count": 48
        },
        {
          "output_type": "display_data",
          "data": {
            "text/plain": [
              "<Figure size 720x504 with 2 Axes>"
            ],
            "image/png": "[encoded data removed]"
          },
          "metadata": {
            "needs_background": "light"
          }
        }
      ]
    },
    {
      "cell_type": "code",
      "source": [
        "#PRECISION\n",
        "precision_0 = round(1548 / (1548+244),2)\n",
        "precision_1 = round(171 / (171+37),2)\n",
        "\n",
        "\n",
        "print(\"Precision for customers who did not leave the bank:\",precision_0)\n",
        "print(\"Precision for customers who left the bank:\",precision_1)"
      ],
      "metadata": {
        "colab": {
          "base_uri": "https://localhost:8080/"
        },
        "id": "0XLdgs9Op5Ab",
        "outputId": "ad225e3b-4227-4135-a48b-f60c0e7ca99c"
      },
      "execution_count": null,
      "outputs": [
        {
          "output_type": "stream",
          "name": "stdout",
          "text": [
            "Precision for customers who did not leave the bank: 0.86\n",
            "Precision for customers who left the bank: 0.82\n"
          ]
        }
      ]
    },
    {
      "cell_type": "code",
      "source": [
        "#RECALL\n",
        "recall_0 = round(1548 / (1548+37),2)\n",
        "recall_1 = round(171 / (171+244),2)\n",
        "print(\"Recall for customers who did not leave the bank:\",recall_0)\n",
        "print(\"Recall for customers who left the bank:\",recall_1)"
      ],
      "metadata": {
        "colab": {
          "base_uri": "https://localhost:8080/"
        },
        "id": "oBxICEzXp8Ss",
        "outputId": "aa61ef47-d026-4170-c233-7427952114d8"
      },
      "execution_count": null,
      "outputs": [
        {
          "output_type": "stream",
          "name": "stdout",
          "text": [
            "Recall for customers who did not leave the bank: 0.98\n",
            "Recall for customers who left the bank: 0.41\n"
          ]
        }
      ]
    },
    {
      "cell_type": "code",
      "source": [
        "#F1 SCORE\n",
        "f1_score_0 = round(2 * ((precision_0 * recall_0) / (precision_0 + recall_0)),2)\n",
        "f1_score_1 = round(2 * ((precision_1 * recall_1) / (precision_1 + recall_1)),2)\n",
        "\n",
        "print(\"F1 score for customers who did not leave the bank:\",f1_score_0)\n",
        "print(\"F1 score for customers who left the bank:\",f1_score_1)"
      ],
      "metadata": {
        "colab": {
          "base_uri": "https://localhost:8080/"
        },
        "id": "-oLSV-FPqB7D",
        "outputId": "738018cf-88bd-44f1-ae62-e4a76f49e981"
      },
      "execution_count": null,
      "outputs": [
        {
          "output_type": "stream",
          "name": "stdout",
          "text": [
            "F1 score for customers who did not leave the bank: 0.92\n",
            "F1 score for customers who left the bank: 0.55\n"
          ]
        }
      ]
    },
    {
      "cell_type": "code",
      "source": [
        "#F1 SCORE\n",
        "f1_score_0 = round(2 * ((precision_0 * recall_0) / (precision_0 + recall_0)),2)\n",
        "f1_score_1 = round(2 * ((precision_1 * recall_1) / (precision_1 + recall_1)),2)\n",
        "\n",
        "print(\"F1 score for customers who did not leave the bank:\",f1_score_0)\n",
        "print(\"F1 score for customers who left the bank:\",f1_score_1)"
      ],
      "metadata": {
        "colab": {
          "base_uri": "https://localhost:8080/"
        },
        "id": "BFEZONq8qHvz",
        "outputId": "f20cb603-5d45-49fd-b4b2-075372735e25"
      },
      "execution_count": null,
      "outputs": [
        {
          "output_type": "stream",
          "name": "stdout",
          "text": [
            "F1 score for customers who did not leave the bank: 0.92\n",
            "F1 score for customers who left the bank: 0.55\n"
          ]
        }
      ]
    },
    {
      "cell_type": "code",
      "source": [
        "import matplotlib.pyplot as plt\n",
        "\n",
        "output = df['Exited'].value_counts() #counting the number of entries for values of Exited i.e 0,1\n",
        "out_labels = ['Churned','Not Churned']\n",
        "out_explode = [0,0.15]\n",
        "\n",
        "plt.pie(output, labels=out_labels, explode=out_explode, autopct='%1.0f%%',shadow=True)\n",
        "plt.show()"
      ],
      "metadata": {
        "colab": {
          "base_uri": "https://localhost:8080/",
          "height": 248
        },
        "id": "53P1nXwVqKJa",
        "outputId": "175e8817-545b-466b-d734-eee49e1bdb83"
      },
      "execution_count": null,
      "outputs": [
        {
          "output_type": "display_data",
          "data": {
            "text/plain": [
              "<Figure size 432x288 with 1 Axes>"
            ],
            "image/png": "[encoded data removed]"
          },
          "metadata": {}
        }
      ]
    },
    {
      "cell_type": "code",
      "source": [
        "import matplotlib.pyplot as plt\n",
        "\n",
        "output = df['Exited'].value_counts() #counting the number of entries for values of Exited i.e 0,1\n",
        "out_labels = ['Churned','Not Churned']\n",
        "out_explode = [0,0.15]\n",
        "\n",
        "plt.pie(output, labels=out_labels, explode=out_explode, autopct='%1.0f%%',shadow=True)\n",
        "plt.show()"
      ],
      "metadata": {
        "colab": {
          "base_uri": "https://localhost:8080/",
          "height": 248
        },
        "id": "f69_DbBkqQKr",
        "outputId": "3efff1c2-9571-435a-932e-40120b4025cc"
      },
      "execution_count": null,
      "outputs": [
        {
          "output_type": "display_data",
          "data": {
            "text/plain": [
              "<Figure size 432x288 with 1 Axes>"
            ],
            "image/png": "[encoded data removed]"
          },
          "metadata": {}
        }
      ]
    },
    {
      "cell_type": "code",
      "source": [
        "df_cond = df['Exited'].values==1\n",
        "df_churned = df[df_cond]          #dataset containing only churned entries\n",
        "gen_count = df_churned['Gender'].value_counts()   #counting the number of entries for each gender in churned dataset\n",
        "gen_labels = ['Female','Male']\n",
        "gen_explode = [0,0.15]\n",
        "\n",
        "plt.pie(gen_count, labels=gen_labels, explode=gen_explode, autopct='%1.0f%%',shadow=True)\n",
        "plt.show()\n",
        "gen_count"
      ],
      "metadata": {
        "colab": {
          "base_uri": "https://localhost:8080/",
          "height": 303
        },
        "id": "psMv3O5AqYq7",
        "outputId": "db1a6fe8-1028-4e0f-d5b0-73899fc686d7"
      },
      "execution_count": null,
      "outputs": [
        {
          "output_type": "display_data",
          "data": {
            "text/plain": [
              "<Figure size 432x288 with 1 Axes>"
            ],
            "image/png": "[encoded data removed]"
          },
          "metadata": {}
        },
        {
          "output_type": "execute_result",
          "data": {
            "text/plain": [
              "Female    1139\n",
              "Male       898\n",
              "Name: Gender, dtype: int64"
            ]
          },
          "metadata": {},
          "execution_count": 60
        }
      ]
    },
    {
      "cell_type": "code",
      "source": [
        "df_cond = df['Exited'].values==1\n",
        "df_churned = df[df_cond]          #dataset containing only churned entries\n",
        "gen_count = df_churned['Gender'].value_counts()   #counting the number of entries for each gender in churned dataset\n",
        "gen_labels = ['Female','Male']\n",
        "gen_explode = [0,0.15]\n",
        "\n",
        "plt.pie(gen_count, labels=gen_labels, explode=gen_explode, autopct='%1.0f%%',shadow=True)\n",
        "plt.show()\n",
        "gen_count"
      ],
      "metadata": {
        "colab": {
          "base_uri": "https://localhost:8080/",
          "height": 303
        },
        "id": "ED6rfCsrqhU7",
        "outputId": "9f241155-d593-4f24-c15c-d28d4cfc1cd8"
      },
      "execution_count": null,
      "outputs": [
        {
          "output_type": "display_data",
          "data": {
            "text/plain": [
              "<Figure size 432x288 with 1 Axes>"
            ],
            "image/png": "[encoded data removed]"
          },
          "metadata": {}
        },
        {
          "output_type": "execute_result",
          "data": {
            "text/plain": [
              "Female    1139\n",
              "Male       898\n",
              "Name: Gender, dtype: int64"
            ]
          },
          "metadata": {},
          "execution_count": 61
        }
      ]
    },
    {
      "cell_type": "code",
      "source": [
        "geo_count = df_churned['Geography'].value_counts() #counting the number of entries for each country in chuned dataset\n",
        "geo_labels = ['France','Germany','Spain']\n",
        "geo_explode = [0,0.1,0.15]\n",
        "\n",
        "plt.pie(geo_count,labels = geo_labels,explode = geo_explode, autopct = '%1.0f%%',shadow = True)\n",
        "plt.show()\n",
        "geo_count"
      ],
      "metadata": {
        "colab": {
          "base_uri": "https://localhost:8080/",
          "height": 317
        },
        "id": "xewoEbQKqx4F",
        "outputId": "eaf6b941-fd1a-4b27-d7a7-5bb7269d8622"
      },
      "execution_count": null,
      "outputs": [
        {
          "output_type": "display_data",
          "data": {
            "text/plain": [
              "<Figure size 432x288 with 1 Axes>"
            ],
            "image/png": "[encoded data removed]"
          },
          "metadata": {}
        },
        {
          "output_type": "execute_result",
          "data": {
            "text/plain": [
              "Germany    814\n",
              "France     810\n",
              "Spain      413\n",
              "Name: Geography, dtype: int64"
            ]
          },
          "metadata": {},
          "execution_count": 62
        }
      ]
    },
    {
      "cell_type": "code",
      "source": [
        "df_cond = df['Exited'].values==0\n",
        "df_notchurned = df[df_cond]\n",
        "df_cond = df['Exited'].values==0\n",
        "df_notchurned = df[df_cond]"
      ],
      "metadata": {
        "id": "dAQ-fJYnq1Fz"
      },
      "execution_count": null,
      "outputs": []
    },
    {
      "cell_type": "code",
      "source": [
        "df_churned['NumOfProducts'].value_counts()  #count for each value of NumOfProducts of churned customer"
      ],
      "metadata": {
        "colab": {
          "base_uri": "https://localhost:8080/"
        },
        "id": "IsOr98Tuq4mT",
        "outputId": "2a43f0dc-8dc0-4ad6-973d-a61a53dd218d"
      },
      "execution_count": null,
      "outputs": [
        {
          "output_type": "execute_result",
          "data": {
            "text/plain": [
              "1    1409\n",
              "2     348\n",
              "3     220\n",
              "4      60\n",
              "Name: NumOfProducts, dtype: int64"
            ]
          },
          "metadata": {},
          "execution_count": 68
        }
      ]
    },
    {
      "cell_type": "code",
      "source": [
        "df_churned['NumOfProducts'].value_counts()  #count for each value of NumOfProducts of churned customer"
      ],
      "metadata": {
        "id": "KWXSNcuVrHhi",
        "outputId": "e04f3d85-dfb1-468f-c775-ee0cac96967a",
        "colab": {
          "base_uri": "https://localhost:8080/"
        }
      },
      "execution_count": null,
      "outputs": [
        {
          "output_type": "execute_result",
          "data": {
            "text/plain": [
              "1    1409\n",
              "2     348\n",
              "3     220\n",
              "4      60\n",
              "Name: NumOfProducts, dtype: int64"
            ]
          },
          "metadata": {},
          "execution_count": 69
        }
      ]
    },
    {
      "cell_type": "code",
      "source": [
        ""
      ],
      "metadata": {
        "id": "NFzKp1y7rKea"
      },
      "execution_count": null,
      "outputs": []
    }
  ]
}